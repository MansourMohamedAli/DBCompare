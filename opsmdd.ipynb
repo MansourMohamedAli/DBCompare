{
 "cells": [
  {
   "cell_type": "code",
   "execution_count": 88,
   "id": "e8c33314-f576-4879-875e-f443f24dfd77",
   "metadata": {},
   "outputs": [],
   "source": [
    "import pyodbc as dbc\n",
    "import pandas as pd\n",
    "import sqlalchemy as sa\n",
    "import os\n",
    "\n",
    "DB1_NAME = 'opsmdd_1.mdb'\n",
    "DB2_NAME = 'opsmdd_2.mdb'"
   ]
  },
  {
   "cell_type": "code",
   "execution_count": 51,
   "id": "be494ea9-bba5-4805-8109-2041f233d119",
   "metadata": {},
   "outputs": [],
   "source": [
    "def get_driver() -> str:\n",
    "    driver_names = [x for x in dbc.drivers() if \"*.mdb\" in x]\n",
    "    if driver_names:\n",
    "        return driver_names[0]"
   ]
  },
  {
   "cell_type": "code",
   "execution_count": 99,
   "id": "cf8dfef4-7998-4401-8089-da1c94453d18",
   "metadata": {},
   "outputs": [],
   "source": [
    "# Function to connect to an Access Database (.mdb)\n",
    "def connect_to_mdb(db_path:str) -> dbc.Connection:\n",
    "    conn_str = r'DRIVER={}; DBQ={};'.format(get_driver(), db_path)\n",
    "    connection_url = sa.engine.URL.create(\n",
    "        \"access+pyodbc\",\n",
    "        query={\"odbc_connect\": conn_str}\n",
    "    )\n",
    "    return sa.create_engine(connection_url)"
   ]
  },
  {
   "cell_type": "code",
   "execution_count": 63,
   "id": "8e014ad4-e81d-4670-a2bb-a45093890767",
   "metadata": {},
   "outputs": [],
   "source": [
    "# Function to read a table into a pandas DataFrame\n",
    "# def read_table_old(connection:dbc.Connection, table_name:list) -> pd.DataFrame:\n",
    "#     query = f\"SELECT * FROM [{table_name}]\"\n",
    "#     return pd.read_sql(query, connection)"
   ]
  },
  {
   "cell_type": "code",
   "execution_count": 68,
   "id": "508adcf0-d247-43a0-8f49-be742cf9203f",
   "metadata": {},
   "outputs": [],
   "source": [
    "# Function to read a table into a pandas DataFrame\n",
    "def read_table(connection:dbc.Connection, table_name:list) -> pd.DataFrame:\n",
    "    return pd.read_sql(f\"SELECT * FROM [{table_name}]\", connection)\n",
    "    # return pd.read_sql(query, connection)"
   ]
  },
  {
   "cell_type": "code",
   "execution_count": 86,
   "id": "138dbaad-ed5a-4d80-8c46-6530789a87d0",
   "metadata": {},
   "outputs": [],
   "source": [
    "# Get the current working directory\n",
    "current_dir = os.getcwd()\n",
    "# Build full paths for the database files\n",
    "db1_path = os.path.join(current_dir, DB1_NAME)\n",
    "db2_path = os.path.join(current_dir, DB2_NAME)"
   ]
  },
  {
   "cell_type": "code",
   "execution_count": 100,
   "id": "039c780c-6f04-4e83-b0e4-8a84a7cf3f02",
   "metadata": {},
   "outputs": [],
   "source": [
    "engine = connect_to_mdb(db1_path)"
   ]
  },
  {
   "cell_type": "code",
   "execution_count": 106,
   "id": "26a2c375-6007-436c-bf2e-a9cb01fa0d2f",
   "metadata": {},
   "outputs": [],
   "source": [
    "access_df = pd.read_sql('vars', engine)"
   ]
  },
  {
   "cell_type": "code",
   "execution_count": 110,
   "id": "c8dbcf8b-d03f-43d0-b411-2cef17f934df",
   "metadata": {},
   "outputs": [
    {
     "data": {
      "text/plain": [
       "sqlalchemy.engine.base.Engine"
      ]
     },
     "execution_count": 110,
     "metadata": {},
     "output_type": "execute_result"
    }
   ],
   "source": [
    "type(engine)"
   ]
  },
  {
   "cell_type": "code",
   "execution_count": 111,
   "id": "f41fe414-712f-48f7-8012-98e27ae5c4f2",
   "metadata": {},
   "outputs": [],
   "source": [
    "engine.dispose()"
   ]
  },
  {
   "cell_type": "code",
   "execution_count": null,
   "id": "fc5150da-9b94-40c8-9443-415c7502141b",
   "metadata": {},
   "outputs": [],
   "source": []
  }
 ],
 "metadata": {
  "kernelspec": {
   "display_name": "Python 3 (ipykernel)",
   "language": "python",
   "name": "python3"
  },
  "language_info": {
   "codemirror_mode": {
    "name": "ipython",
    "version": 3
   },
   "file_extension": ".py",
   "mimetype": "text/x-python",
   "name": "python",
   "nbconvert_exporter": "python",
   "pygments_lexer": "ipython3",
   "version": "3.12.0"
  }
 },
 "nbformat": 4,
 "nbformat_minor": 5
}
